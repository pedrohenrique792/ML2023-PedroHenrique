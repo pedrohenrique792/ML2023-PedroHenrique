{
  "cells": [
    {
      "cell_type": "markdown",
      "metadata": {
        "id": "view-in-github",
        "colab_type": "text"
      },
      "source": [
        "<a href=\"https://colab.research.google.com/github/pedrohenrique792/ML2023-PedroHenrique/blob/main/C%C3%B3pia_de_8_Leitura_e_salvamento_de_datasets.ipynb\" target=\"_parent\"><img src=\"https://colab.research.google.com/assets/colab-badge.svg\" alt=\"Open In Colab\"/></a>"
      ]
    },
    {
      "cell_type": "markdown",
      "metadata": {
        "id": "KKZutzhC6FRi"
      },
      "source": [
        "# 8 - Leitura e salvamento de conjuntos de dados"
      ]
    },
    {
      "cell_type": "markdown",
      "metadata": {
        "id": "oWIgF42X6FRk"
      },
      "source": [
        "## Lendo arquivos de texto puro"
      ]
    },
    {
      "cell_type": "markdown",
      "source": [
        "\n",
        "\n",
        "1.   Seleciona o arquivo \"huck_finn.txt\"\n",
        "2.   Abre o arquivo como leitura\n",
        "3.   Fecha o arquivo\n",
        "\n"
      ],
      "metadata": {
        "id": "VFkwqc2y61yB"
      }
    },
    {
      "cell_type": "code",
      "execution_count": 2,
      "metadata": {
        "id": "OGX4ZOwV6FRk"
      },
      "outputs": [],
      "source": [
        "filename = 'huck_finn.txt'\n",
        "\n",
        "file = open(filename, mode='r')\n",
        "text = file.read()\n",
        "\n",
        "file.close()"
      ]
    },
    {
      "cell_type": "markdown",
      "source": [
        "Imprime o texto do arquivo"
      ],
      "metadata": {
        "id": "JMlHUZUO7bsP"
      }
    },
    {
      "cell_type": "code",
      "execution_count": 4,
      "metadata": {
        "id": "KC0KOTuW6FRl",
        "outputId": "5bab8c9e-3f8a-4e45-efc3-19875d072a51",
        "colab": {
          "base_uri": "https://localhost:8080/"
        }
      },
      "outputs": [
        {
          "output_type": "stream",
          "name": "stdout",
          "text": [
            "YOU don't know about me without you have read a book by the name of The Adventures of Tom Sawyer; but that ain't no matter. That book was made by Mr. Mark Twain, and he told the truth, mainly. There was things which he stretched, but mainly he told the truth. That is nothing. I never seen anybody but lied one time or another, without it was Aunt Polly, or the widow, or maybe Mary. Aunt Polly--Tom's Aunt Polly, she is--and Mary, and the Widow Douglas is all told about in that book, which is mostly a true book, with some stretchers, as I said before.\n"
          ]
        }
      ],
      "source": [
        "print(text)"
      ]
    },
    {
      "cell_type": "markdown",
      "metadata": {
        "id": "SoGsedus6FRl"
      },
      "source": [
        "## Criando um contexto para leitura de arquivos"
      ]
    },
    {
      "cell_type": "markdown",
      "source": [
        "\n",
        "\n",
        "1.   Cria um contexto para abrir o arquivo como leitura\n",
        "2.   Imprime o arquivo\n",
        "\n"
      ],
      "metadata": {
        "id": "Ql_H6fdp7qBu"
      }
    },
    {
      "cell_type": "code",
      "execution_count": 5,
      "metadata": {
        "id": "83krbfkZ6FRm",
        "outputId": "a9a81ffa-5123-41f5-a373-1193ae94d282",
        "colab": {
          "base_uri": "https://localhost:8080/"
        }
      },
      "outputs": [
        {
          "output_type": "stream",
          "name": "stdout",
          "text": [
            "YOU don't know about me without you have read a book by the name of The Adventures of Tom Sawyer; but that ain't no matter. That book was made by Mr. Mark Twain, and he told the truth, mainly. There was things which he stretched, but mainly he told the truth. That is nothing. I never seen anybody but lied one time or another, without it was Aunt Polly, or the widow, or maybe Mary. Aunt Polly--Tom's Aunt Polly, she is--and Mary, and the Widow Douglas is all told about in that book, which is mostly a true book, with some stretchers, as I said before.\n"
          ]
        }
      ],
      "source": [
        "with open('huck_finn.txt', 'r') as file:\n",
        "    print(file.read())"
      ]
    },
    {
      "cell_type": "markdown",
      "metadata": {
        "id": "e7_M30kq6FRm"
      },
      "source": [
        "## Importando dados com o Numpy"
      ]
    },
    {
      "cell_type": "markdown",
      "source": [
        "\n",
        "\n",
        "1.   Importa a biblioteca numpy\n",
        "2.   Importa o arquivo \"MNIST.txt\"\n",
        "1.   Carrega os arquivos para a variável data usando um delimitador = \",\"\n",
        "\n",
        "\n",
        "\n"
      ],
      "metadata": {
        "id": "yYVKP93L8oPe"
      }
    },
    {
      "cell_type": "code",
      "execution_count": 7,
      "metadata": {
        "id": "xIawWlst6FRm",
        "outputId": "b14f65a1-8e30-4a38-f44e-e2867ecf6c0a",
        "colab": {
          "base_uri": "https://localhost:8080/"
        }
      },
      "outputs": [
        {
          "output_type": "execute_result",
          "data": {
            "text/plain": [
              "array([[1., 0., 0., ..., 0., 0., 0.],\n",
              "       [0., 0., 0., ..., 0., 0., 0.],\n",
              "       [1., 0., 0., ..., 0., 0., 0.],\n",
              "       ...,\n",
              "       [2., 0., 0., ..., 0., 0., 0.],\n",
              "       [0., 0., 0., ..., 0., 0., 0.],\n",
              "       [5., 0., 0., ..., 0., 0., 0.]])"
            ]
          },
          "metadata": {},
          "execution_count": 7
        }
      ],
      "source": [
        "import numpy as np\n",
        "\n",
        "filename = 'MNIST.txt'\n",
        "\n",
        "data = np.loadtxt(filename, delimiter=',')\n",
        "data"
      ]
    },
    {
      "cell_type": "markdown",
      "source": [
        "Carrega os arquivos para a variável data usando um delimitador = \",\" e pulando um por vez"
      ],
      "metadata": {
        "id": "jV2nR8gNHNTn"
      }
    },
    {
      "cell_type": "code",
      "execution_count": 9,
      "metadata": {
        "id": "uTdU-B5U6FRm"
      },
      "outputs": [],
      "source": [
        "data = np.loadtxt(filename, delimiter=',', skiprows=1)"
      ]
    },
    {
      "cell_type": "markdown",
      "source": [
        "Imprime \"data\""
      ],
      "metadata": {
        "id": "cZaYzI6yHU6o"
      }
    },
    {
      "cell_type": "code",
      "execution_count": 10,
      "metadata": {
        "id": "xSwklnXu6FRm",
        "outputId": "5b177327-1420-402c-9d8d-f29f857d3ec2",
        "colab": {
          "base_uri": "https://localhost:8080/"
        }
      },
      "outputs": [
        {
          "output_type": "stream",
          "name": "stdout",
          "text": [
            "[[0. 0. 0. ... 0. 0. 0.]\n",
            " [1. 0. 0. ... 0. 0. 0.]\n",
            " [4. 0. 0. ... 0. 0. 0.]\n",
            " ...\n",
            " [2. 0. 0. ... 0. 0. 0.]\n",
            " [0. 0. 0. ... 0. 0. 0.]\n",
            " [5. 0. 0. ... 0. 0. 0.]]\n"
          ]
        }
      ],
      "source": [
        "print(data)"
      ]
    },
    {
      "cell_type": "markdown",
      "source": [
        "\n",
        "\n",
        "1.   Carrega os arquivos para a variável data \n",
        "2.   Usa um delimitador = \",\"\n",
        "1.   Pulando um por vez\n",
        "2.   Permite apenas dois elementos por coluna\n",
        "\n",
        "\n",
        "\n"
      ],
      "metadata": {
        "id": "wmLtJW0uHbsG"
      }
    },
    {
      "cell_type": "code",
      "execution_count": 11,
      "metadata": {
        "id": "WSatSQ2S6FRn",
        "outputId": "a0176a42-25ba-40c4-9e60-239fee73b3d5",
        "colab": {
          "base_uri": "https://localhost:8080/"
        }
      },
      "outputs": [
        {
          "output_type": "execute_result",
          "data": {
            "text/plain": [
              "array([[0., 0.],\n",
              "       [1., 0.],\n",
              "       [4., 0.],\n",
              "       [0., 0.],\n",
              "       [0., 0.],\n",
              "       [7., 0.],\n",
              "       [3., 0.],\n",
              "       [5., 0.],\n",
              "       [3., 0.],\n",
              "       [8., 0.],\n",
              "       [9., 0.],\n",
              "       [1., 0.],\n",
              "       [3., 0.],\n",
              "       [3., 0.],\n",
              "       [1., 0.],\n",
              "       [2., 0.],\n",
              "       [0., 0.],\n",
              "       [7., 0.],\n",
              "       [5., 0.],\n",
              "       [8., 0.],\n",
              "       [6., 0.],\n",
              "       [2., 0.],\n",
              "       [0., 0.],\n",
              "       [2., 0.],\n",
              "       [3., 0.],\n",
              "       [6., 0.],\n",
              "       [9., 0.],\n",
              "       [9., 0.],\n",
              "       [7., 0.],\n",
              "       [8., 0.],\n",
              "       [9., 0.],\n",
              "       [4., 0.],\n",
              "       [9., 0.],\n",
              "       [2., 0.],\n",
              "       [1., 0.],\n",
              "       [3., 0.],\n",
              "       [1., 0.],\n",
              "       [1., 0.],\n",
              "       [4., 0.],\n",
              "       [9., 0.],\n",
              "       [1., 0.],\n",
              "       [4., 0.],\n",
              "       [4., 0.],\n",
              "       [2., 0.],\n",
              "       [6., 0.],\n",
              "       [3., 0.],\n",
              "       [7., 0.],\n",
              "       [7., 0.],\n",
              "       [4., 0.],\n",
              "       [7., 0.],\n",
              "       [5., 0.],\n",
              "       [1., 0.],\n",
              "       [9., 0.],\n",
              "       [0., 0.],\n",
              "       [2., 0.],\n",
              "       [2., 0.],\n",
              "       [3., 0.],\n",
              "       [9., 0.],\n",
              "       [1., 0.],\n",
              "       [1., 0.],\n",
              "       [1., 0.],\n",
              "       [5., 0.],\n",
              "       [0., 0.],\n",
              "       [6., 0.],\n",
              "       [3., 0.],\n",
              "       [4., 0.],\n",
              "       [8., 0.],\n",
              "       [1., 0.],\n",
              "       [0., 0.],\n",
              "       [3., 0.],\n",
              "       [9., 0.],\n",
              "       [6., 0.],\n",
              "       [2., 0.],\n",
              "       [6., 0.],\n",
              "       [4., 0.],\n",
              "       [7., 0.],\n",
              "       [1., 0.],\n",
              "       [4., 0.],\n",
              "       [1., 0.],\n",
              "       [5., 0.],\n",
              "       [4., 0.],\n",
              "       [8., 0.],\n",
              "       [9., 0.],\n",
              "       [2., 0.],\n",
              "       [9., 0.],\n",
              "       [9., 0.],\n",
              "       [8., 0.],\n",
              "       [9., 0.],\n",
              "       [6., 0.],\n",
              "       [3., 0.],\n",
              "       [6., 0.],\n",
              "       [4., 0.],\n",
              "       [6., 0.],\n",
              "       [2., 0.],\n",
              "       [9., 0.],\n",
              "       [1., 0.],\n",
              "       [2., 0.],\n",
              "       [0., 0.],\n",
              "       [5., 0.]])"
            ]
          },
          "metadata": {},
          "execution_count": 11
        }
      ],
      "source": [
        "data = np.loadtxt(filename, delimiter=',', skiprows=1, usecols=[0,2])\n",
        "data"
      ]
    },
    {
      "cell_type": "markdown",
      "source": [
        "\n",
        "\n",
        "1.   Carrega os arquivos para a variável data \n",
        "2.   Usa um delimitador = \",\"\n",
        "1.   Usa o parâmetro string\n",
        "2.   Imprime \"data\"\n"
      ],
      "metadata": {
        "id": "f4Xq2Rg_H5Nl"
      }
    },
    {
      "cell_type": "code",
      "execution_count": 12,
      "metadata": {
        "id": "oh8HXD1y6FRn",
        "outputId": "a9675f0a-f8be-461d-b820-42a684da45be",
        "colab": {
          "base_uri": "https://localhost:8080/"
        }
      },
      "outputs": [
        {
          "output_type": "stream",
          "name": "stdout",
          "text": [
            "[['1.0' '0.0' '0.0' ... '0.0' '0.0' '0.0']\n",
            " ['0.0' '0.0' '0.0' ... '0.0' '0.0' '0.0']\n",
            " ['1.0' '0.0' '0.0' ... '0.0' '0.0' '0.0']\n",
            " ...\n",
            " ['2.0' '0.0' '0.0' ... '0.0' '0.0' '0.0']\n",
            " ['0.0' '0.0' '0.0' ... '0.0' '0.0' '0.0']\n",
            " ['5.0' '0.0' '0.0' ... '0.0' '0.0' '0.0']]\n"
          ]
        }
      ],
      "source": [
        "data = np.loadtxt(filename, delimiter=',', dtype=str)\n",
        "print(data)"
      ]
    },
    {
      "cell_type": "markdown",
      "metadata": {
        "id": "JqaMiyZy6FRn"
      },
      "source": [
        "## Importando arquivos utilizando o Pandas"
      ]
    },
    {
      "cell_type": "markdown",
      "metadata": {
        "id": "cuP0Gs6m6FRn"
      },
      "source": [
        "Em geral, um cientista de dados precisa lidar com\n",
        "- Estruturas de dados bidimensionais, rotuladas,\n",
        "- Colunas com tipos potencialmente diferentes,\n",
        "- Manipulação, fatiamento, reformar, agrupar, juntar,\n",
        "- Realizar estatísticas,\n",
        "- Trabalhar com dados de séries temporais,\n",
        "- ..."
      ]
    },
    {
      "cell_type": "markdown",
      "source": [
        "\n",
        "1.   Importa a biblioteca pandas\n",
        "2.   Importa o arquivo \"winequality-red.csv\"\n",
        "1.   Carrega os arquivos para a variável \"data\"\n",
        "1.   Carrega o cabeçalho de \"data\""
      ],
      "metadata": {
        "id": "gnfyn2jFIhYP"
      }
    },
    {
      "cell_type": "code",
      "execution_count": 13,
      "metadata": {
        "id": "TMtlFZdv6FRn",
        "outputId": "3e4391b6-b4bc-4395-9d46-056f69a6a0cd",
        "colab": {
          "base_uri": "https://localhost:8080/",
          "height": 206
        }
      },
      "outputs": [
        {
          "output_type": "execute_result",
          "data": {
            "text/plain": [
              "   fixed acidity  volatile acidity  citric acid  residual sugar  chlorides  \\\n",
              "0            7.4              0.70         0.00             1.9      0.076   \n",
              "1            7.8              0.88         0.00             2.6      0.098   \n",
              "2            7.8              0.76         0.04             2.3      0.092   \n",
              "3           11.2              0.28         0.56             1.9      0.075   \n",
              "4            7.4              0.70         0.00             1.9      0.076   \n",
              "\n",
              "   free sulfur dioxide  total sulfur dioxide  density    pH  sulphates  \\\n",
              "0                 11.0                  34.0   0.9978  3.51       0.56   \n",
              "1                 25.0                  67.0   0.9968  3.20       0.68   \n",
              "2                 15.0                  54.0   0.9970  3.26       0.65   \n",
              "3                 17.0                  60.0   0.9980  3.16       0.58   \n",
              "4                 11.0                  34.0   0.9978  3.51       0.56   \n",
              "\n",
              "   alcohol  quality  \n",
              "0      9.4        5  \n",
              "1      9.8        5  \n",
              "2      9.8        5  \n",
              "3      9.8        6  \n",
              "4      9.4        5  "
            ],
            "text/html": [
              "\n",
              "  <div id=\"df-f7359ba2-791f-4208-96da-b3be57697874\">\n",
              "    <div class=\"colab-df-container\">\n",
              "      <div>\n",
              "<style scoped>\n",
              "    .dataframe tbody tr th:only-of-type {\n",
              "        vertical-align: middle;\n",
              "    }\n",
              "\n",
              "    .dataframe tbody tr th {\n",
              "        vertical-align: top;\n",
              "    }\n",
              "\n",
              "    .dataframe thead th {\n",
              "        text-align: right;\n",
              "    }\n",
              "</style>\n",
              "<table border=\"1\" class=\"dataframe\">\n",
              "  <thead>\n",
              "    <tr style=\"text-align: right;\">\n",
              "      <th></th>\n",
              "      <th>fixed acidity</th>\n",
              "      <th>volatile acidity</th>\n",
              "      <th>citric acid</th>\n",
              "      <th>residual sugar</th>\n",
              "      <th>chlorides</th>\n",
              "      <th>free sulfur dioxide</th>\n",
              "      <th>total sulfur dioxide</th>\n",
              "      <th>density</th>\n",
              "      <th>pH</th>\n",
              "      <th>sulphates</th>\n",
              "      <th>alcohol</th>\n",
              "      <th>quality</th>\n",
              "    </tr>\n",
              "  </thead>\n",
              "  <tbody>\n",
              "    <tr>\n",
              "      <th>0</th>\n",
              "      <td>7.4</td>\n",
              "      <td>0.70</td>\n",
              "      <td>0.00</td>\n",
              "      <td>1.9</td>\n",
              "      <td>0.076</td>\n",
              "      <td>11.0</td>\n",
              "      <td>34.0</td>\n",
              "      <td>0.9978</td>\n",
              "      <td>3.51</td>\n",
              "      <td>0.56</td>\n",
              "      <td>9.4</td>\n",
              "      <td>5</td>\n",
              "    </tr>\n",
              "    <tr>\n",
              "      <th>1</th>\n",
              "      <td>7.8</td>\n",
              "      <td>0.88</td>\n",
              "      <td>0.00</td>\n",
              "      <td>2.6</td>\n",
              "      <td>0.098</td>\n",
              "      <td>25.0</td>\n",
              "      <td>67.0</td>\n",
              "      <td>0.9968</td>\n",
              "      <td>3.20</td>\n",
              "      <td>0.68</td>\n",
              "      <td>9.8</td>\n",
              "      <td>5</td>\n",
              "    </tr>\n",
              "    <tr>\n",
              "      <th>2</th>\n",
              "      <td>7.8</td>\n",
              "      <td>0.76</td>\n",
              "      <td>0.04</td>\n",
              "      <td>2.3</td>\n",
              "      <td>0.092</td>\n",
              "      <td>15.0</td>\n",
              "      <td>54.0</td>\n",
              "      <td>0.9970</td>\n",
              "      <td>3.26</td>\n",
              "      <td>0.65</td>\n",
              "      <td>9.8</td>\n",
              "      <td>5</td>\n",
              "    </tr>\n",
              "    <tr>\n",
              "      <th>3</th>\n",
              "      <td>11.2</td>\n",
              "      <td>0.28</td>\n",
              "      <td>0.56</td>\n",
              "      <td>1.9</td>\n",
              "      <td>0.075</td>\n",
              "      <td>17.0</td>\n",
              "      <td>60.0</td>\n",
              "      <td>0.9980</td>\n",
              "      <td>3.16</td>\n",
              "      <td>0.58</td>\n",
              "      <td>9.8</td>\n",
              "      <td>6</td>\n",
              "    </tr>\n",
              "    <tr>\n",
              "      <th>4</th>\n",
              "      <td>7.4</td>\n",
              "      <td>0.70</td>\n",
              "      <td>0.00</td>\n",
              "      <td>1.9</td>\n",
              "      <td>0.076</td>\n",
              "      <td>11.0</td>\n",
              "      <td>34.0</td>\n",
              "      <td>0.9978</td>\n",
              "      <td>3.51</td>\n",
              "      <td>0.56</td>\n",
              "      <td>9.4</td>\n",
              "      <td>5</td>\n",
              "    </tr>\n",
              "  </tbody>\n",
              "</table>\n",
              "</div>\n",
              "      <button class=\"colab-df-convert\" onclick=\"convertToInteractive('df-f7359ba2-791f-4208-96da-b3be57697874')\"\n",
              "              title=\"Convert this dataframe to an interactive table.\"\n",
              "              style=\"display:none;\">\n",
              "        \n",
              "  <svg xmlns=\"http://www.w3.org/2000/svg\" height=\"24px\"viewBox=\"0 0 24 24\"\n",
              "       width=\"24px\">\n",
              "    <path d=\"M0 0h24v24H0V0z\" fill=\"none\"/>\n",
              "    <path d=\"M18.56 5.44l.94 2.06.94-2.06 2.06-.94-2.06-.94-.94-2.06-.94 2.06-2.06.94zm-11 1L8.5 8.5l.94-2.06 2.06-.94-2.06-.94L8.5 2.5l-.94 2.06-2.06.94zm10 10l.94 2.06.94-2.06 2.06-.94-2.06-.94-.94-2.06-.94 2.06-2.06.94z\"/><path d=\"M17.41 7.96l-1.37-1.37c-.4-.4-.92-.59-1.43-.59-.52 0-1.04.2-1.43.59L10.3 9.45l-7.72 7.72c-.78.78-.78 2.05 0 2.83L4 21.41c.39.39.9.59 1.41.59.51 0 1.02-.2 1.41-.59l7.78-7.78 2.81-2.81c.8-.78.8-2.07 0-2.86zM5.41 20L4 18.59l7.72-7.72 1.47 1.35L5.41 20z\"/>\n",
              "  </svg>\n",
              "      </button>\n",
              "      \n",
              "  <style>\n",
              "    .colab-df-container {\n",
              "      display:flex;\n",
              "      flex-wrap:wrap;\n",
              "      gap: 12px;\n",
              "    }\n",
              "\n",
              "    .colab-df-convert {\n",
              "      background-color: #E8F0FE;\n",
              "      border: none;\n",
              "      border-radius: 50%;\n",
              "      cursor: pointer;\n",
              "      display: none;\n",
              "      fill: #1967D2;\n",
              "      height: 32px;\n",
              "      padding: 0 0 0 0;\n",
              "      width: 32px;\n",
              "    }\n",
              "\n",
              "    .colab-df-convert:hover {\n",
              "      background-color: #E2EBFA;\n",
              "      box-shadow: 0px 1px 2px rgba(60, 64, 67, 0.3), 0px 1px 3px 1px rgba(60, 64, 67, 0.15);\n",
              "      fill: #174EA6;\n",
              "    }\n",
              "\n",
              "    [theme=dark] .colab-df-convert {\n",
              "      background-color: #3B4455;\n",
              "      fill: #D2E3FC;\n",
              "    }\n",
              "\n",
              "    [theme=dark] .colab-df-convert:hover {\n",
              "      background-color: #434B5C;\n",
              "      box-shadow: 0px 1px 3px 1px rgba(0, 0, 0, 0.15);\n",
              "      filter: drop-shadow(0px 1px 2px rgba(0, 0, 0, 0.3));\n",
              "      fill: #FFFFFF;\n",
              "    }\n",
              "  </style>\n",
              "\n",
              "      <script>\n",
              "        const buttonEl =\n",
              "          document.querySelector('#df-f7359ba2-791f-4208-96da-b3be57697874 button.colab-df-convert');\n",
              "        buttonEl.style.display =\n",
              "          google.colab.kernel.accessAllowed ? 'block' : 'none';\n",
              "\n",
              "        async function convertToInteractive(key) {\n",
              "          const element = document.querySelector('#df-f7359ba2-791f-4208-96da-b3be57697874');\n",
              "          const dataTable =\n",
              "            await google.colab.kernel.invokeFunction('convertToInteractive',\n",
              "                                                     [key], {});\n",
              "          if (!dataTable) return;\n",
              "\n",
              "          const docLinkHtml = 'Like what you see? Visit the ' +\n",
              "            '<a target=\"_blank\" href=https://colab.research.google.com/notebooks/data_table.ipynb>data table notebook</a>'\n",
              "            + ' to learn more about interactive tables.';\n",
              "          element.innerHTML = '';\n",
              "          dataTable['output_type'] = 'display_data';\n",
              "          await google.colab.output.renderOutput(dataTable, element);\n",
              "          const docLink = document.createElement('div');\n",
              "          docLink.innerHTML = docLinkHtml;\n",
              "          element.appendChild(docLink);\n",
              "        }\n",
              "      </script>\n",
              "    </div>\n",
              "  </div>\n",
              "  "
            ]
          },
          "metadata": {},
          "execution_count": 13
        }
      ],
      "source": [
        "import pandas as pd\n",
        "\n",
        "filename = 'winequality-red.csv'\n",
        "\n",
        "data = pd.read_csv(filename)\n",
        "\n",
        "data.head()"
      ]
    },
    {
      "cell_type": "markdown",
      "source": [
        "\n",
        "\n",
        "1.   Cria um array com valores de \"data\"\n",
        "2.   Imprime os valores\n",
        "\n"
      ],
      "metadata": {
        "id": "h7FDmQWjI5-Z"
      }
    },
    {
      "cell_type": "code",
      "execution_count": 14,
      "metadata": {
        "id": "16X-PPS46FRo",
        "outputId": "957b1578-0934-4214-f529-fc6dab24edff",
        "colab": {
          "base_uri": "https://localhost:8080/"
        }
      },
      "outputs": [
        {
          "output_type": "execute_result",
          "data": {
            "text/plain": [
              "array([[ 7.4  ,  0.7  ,  0.   , ...,  0.56 ,  9.4  ,  5.   ],\n",
              "       [ 7.8  ,  0.88 ,  0.   , ...,  0.68 ,  9.8  ,  5.   ],\n",
              "       [ 7.8  ,  0.76 ,  0.04 , ...,  0.65 ,  9.8  ,  5.   ],\n",
              "       ...,\n",
              "       [ 6.3  ,  0.51 ,  0.13 , ...,  0.75 , 11.   ,  6.   ],\n",
              "       [ 5.9  ,  0.645,  0.12 , ...,  0.71 , 10.2  ,  5.   ],\n",
              "       [ 6.   ,  0.31 ,  0.47 , ...,  0.66 , 11.   ,  6.   ]])"
            ]
          },
          "metadata": {},
          "execution_count": 14
        }
      ],
      "source": [
        "data_array = data.values\n",
        "data_array"
      ]
    }
  ],
  "metadata": {
    "kernelspec": {
      "display_name": "Python 3",
      "language": "python",
      "name": "python3"
    },
    "language_info": {
      "codemirror_mode": {
        "name": "ipython",
        "version": 3
      },
      "file_extension": ".py",
      "mimetype": "text/x-python",
      "name": "python",
      "nbconvert_exporter": "python",
      "pygments_lexer": "ipython3",
      "version": "3.6.8"
    },
    "colab": {
      "provenance": [],
      "include_colab_link": true
    }
  },
  "nbformat": 4,
  "nbformat_minor": 0
}